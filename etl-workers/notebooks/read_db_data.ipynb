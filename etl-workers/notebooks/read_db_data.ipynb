{
 "cells": [
  {
   "cell_type": "code",
   "execution_count": 1,
   "metadata": {
    "collapsed": true
   },
   "outputs": [],
   "source": [
    "import sys"
   ]
  },
  {
   "cell_type": "code",
   "execution_count": 2,
   "metadata": {
    "collapsed": true
   },
   "outputs": [],
   "source": [
    "sys.path.append('/etl-workers')"
   ]
  },
  {
   "cell_type": "code",
   "execution_count": 3,
   "metadata": {
    "collapsed": true
   },
   "outputs": [],
   "source": [
    "from ins00.tasks import add"
   ]
  },
  {
   "cell_type": "code",
   "execution_count": 4,
   "metadata": {
    "collapsed": true
   },
   "outputs": [],
   "source": [
    "res = add.delay(11, 33)"
   ]
  },
  {
   "cell_type": "code",
   "execution_count": 5,
   "metadata": {
    "collapsed": false
   },
   "outputs": [
    {
     "data": {
      "text/plain": [
       "'SUCCESS'"
      ]
     },
     "execution_count": 5,
     "metadata": {},
     "output_type": "execute_result"
    }
   ],
   "source": [
    "res.status"
   ]
  },
  {
   "cell_type": "code",
   "execution_count": 6,
   "metadata": {
    "collapsed": false
   },
   "outputs": [
    {
     "data": {
      "text/plain": [
       "44"
      ]
     },
     "execution_count": 6,
     "metadata": {},
     "output_type": "execute_result"
    }
   ],
   "source": [
    "res.get()"
   ]
  },
  {
   "cell_type": "code",
   "execution_count": 7,
   "metadata": {
    "collapsed": true
   },
   "outputs": [],
   "source": [
    "from ins00.tasks import read_db_data"
   ]
  },
  {
   "cell_type": "code",
   "execution_count": 8,
   "metadata": {
    "collapsed": true
   },
   "outputs": [],
   "source": [
    "res = read_db_data.delay(lname_wanted='reeves')"
   ]
  },
  {
   "cell_type": "code",
   "execution_count": 9,
   "metadata": {
    "collapsed": false
   },
   "outputs": [
    {
     "data": {
      "text/plain": [
       "'SUCCESS'"
      ]
     },
     "execution_count": 9,
     "metadata": {},
     "output_type": "execute_result"
    }
   ],
   "source": [
    "res.status"
   ]
  },
  {
   "cell_type": "code",
   "execution_count": 10,
   "metadata": {
    "collapsed": false
   },
   "outputs": [
    {
     "data": {
      "text/plain": [
       "'BONNIE REEVES 816-85-1998<br>\\nBYRON REEVES 799-26-1229<br>\\nMORGAN REEVES 538-76-1766<br>\\nKATHY REEVES 161-22-4365<br>\\nCHARMIANE REEVES 197-36-3659<br>\\nMACKENZIE REEVES 276-38-6653<br>\\nDANNY REEVES 619-94-5249<br>\\nBYRON REEVES 294-54-1180<br>\\nCASIE REEVES 580-62-9683<br>\\nKATHY REEVES 420-84-0280<br>\\nMARK REEVES 268-23-5462<br>\\nSTERLING REEVES 685-25-5185<br>\\nBARBARA REEVES 373-75-0851<br>\\nCAROLYN REEVES 722-26-6307<br>\\nCHRISTOPHER REEVES 057-11-7748<br>\\nMARCUS REEVES 544-76-1013<br>\\nCHRISTOPHER REEVES 040-12-4641<br>\\nJORDAN REEVES 507-84-6825<br>\\nASHLEY REEVES 722-36-4032<br>\\nSAMALYA REEVES 454-94-4120<br>\\nGRADY REEVES 290-84-6547<br>\\nASHTON REEVES 021-51-0031<br>\\nGREG REEVES 543-15-5833<br>\\nKARI REEVES 249-43-7888<br>\\nSAMALYA REEVES 590-41-0331<br>\\nKALEB REEVES 647-67-5403<br>\\nASHTON REEVES 279-82-8253<br>\\nSAMALYA REEVES 627-74-6606<br>\\nJOHNNY REEVES 263-58-0581<br>\\nDANNY REEVES 446-26-5470<br>\\nCASIE REEVES 530-41-9030<br>\\nBRIAN REEVES 513-14-9959<br>\\nANDREA REEVES 511-44-7624<br>\\nLAERICA REEVES 143-24-1998<br>\\nMARTIN REEVES 459-55-4425<br>\\nWILLIAM REEVES 384-39-4220<br>\\nBRIAN REEVES 393-24-3124<br>\\nBRIAN REEVES 727-15-6480<br>\\nCHASE REEVES 687-73-0688<br>\\nSAMALYA REEVES 705-71-5071<br>\\nMICHAEL REEVES 432-53-5364<br>\\n'"
      ]
     },
     "execution_count": 10,
     "metadata": {},
     "output_type": "execute_result"
    }
   ],
   "source": [
    "res.info"
   ]
  },
  {
   "cell_type": "code",
   "execution_count": null,
   "metadata": {
    "collapsed": true
   },
   "outputs": [],
   "source": []
  }
 ],
 "metadata": {
  "kernelspec": {
   "display_name": "Python 3",
   "language": "python",
   "name": "python3"
  },
  "language_info": {
   "codemirror_mode": {
    "name": "ipython",
    "version": 3
   },
   "file_extension": ".py",
   "mimetype": "text/x-python",
   "name": "python",
   "nbconvert_exporter": "python",
   "pygments_lexer": "ipython3",
   "version": "3.5.2"
  }
 },
 "nbformat": 4,
 "nbformat_minor": 2
}
